{
 "cells": [
  {
   "cell_type": "markdown",
   "metadata": {},
   "source": [
    "# Navigation\n",
    "\n",
    "---\n",
    "\n",
    "You are welcome to use this coding environment to train your agent for the project.  Follow the instructions below to get started!\n",
    "\n",
    "### 1. Start the Environment\n",
    "\n",
    "Run the next code cell to install a few packages.  This line will take a few minutes to run!"
   ]
  },
  {
   "cell_type": "code",
   "execution_count": 2,
   "metadata": {},
   "outputs": [],
   "source": [
    "!pip -q install ./python"
   ]
  },
  {
   "cell_type": "markdown",
   "metadata": {},
   "source": [
    "The environment is already saved in the Workspace and can be accessed at the file path provided below.  Please run the next code cell without making any changes."
   ]
  },
  {
   "cell_type": "code",
   "execution_count": 3,
   "metadata": {},
   "outputs": [
    {
     "name": "stderr",
     "output_type": "stream",
     "text": [
      "INFO:unityagents:\n",
      "'Academy' started successfully!\n",
      "Unity Academy name: Academy\n",
      "        Number of Brains: 1\n",
      "        Number of External Brains : 1\n",
      "        Lesson number : 0\n",
      "        Reset Parameters :\n",
      "\t\t\n",
      "Unity brain name: BananaBrain\n",
      "        Number of Visual Observations (per agent): 0\n",
      "        Vector Observation space type: continuous\n",
      "        Vector Observation space size (per agent): 37\n",
      "        Number of stacked Vector Observation: 1\n",
      "        Vector Action space type: discrete\n",
      "        Vector Action space size (per agent): 4\n",
      "        Vector Action descriptions: , , , \n"
     ]
    }
   ],
   "source": [
    "from unityagents import UnityEnvironment\n",
    "import numpy as np\n",
    "\n",
    "# please do not modify the line below\n",
    "env = UnityEnvironment(file_name=\"/data/Banana_Linux_NoVis/Banana.x86_64\")"
   ]
  },
  {
   "cell_type": "markdown",
   "metadata": {},
   "source": [
    "Environments contain **_brains_** which are responsible for deciding the actions of their associated agents. Here we check for the first brain available, and set it as the default brain we will be controlling from Python."
   ]
  },
  {
   "cell_type": "code",
   "execution_count": 4,
   "metadata": {},
   "outputs": [],
   "source": [
    "# get the default brain\n",
    "brain_name = env.brain_names[0]\n",
    "brain = env.brains[brain_name]"
   ]
  },
  {
   "cell_type": "markdown",
   "metadata": {},
   "source": [
    "### 2. Examine the State and Action Spaces\n",
    "\n",
    "Run the code cell below to print some information about the environment."
   ]
  },
  {
   "cell_type": "code",
   "execution_count": 5,
   "metadata": {},
   "outputs": [
    {
     "name": "stdout",
     "output_type": "stream",
     "text": [
      "Number of agents: 1\n",
      "Number of actions: 4\n",
      "States look like: [ 1.          0.          0.          0.          0.84408134  0.          0.\n",
      "  1.          0.          0.0748472   0.          1.          0.          0.\n",
      "  0.25755     1.          0.          0.          0.          0.74177343\n",
      "  0.          1.          0.          0.          0.25854847  0.          0.\n",
      "  1.          0.          0.09355672  0.          1.          0.          0.\n",
      "  0.31969345  0.          0.        ]\n",
      "States have length: 37\n"
     ]
    }
   ],
   "source": [
    "# reset the environment\n",
    "env_info = env.reset(train_mode=True)[brain_name]\n",
    "\n",
    "# number of agents in the environment\n",
    "print('Number of agents:', len(env_info.agents))\n",
    "\n",
    "# number of actions\n",
    "action_size = brain.vector_action_space_size\n",
    "print('Number of actions:', action_size)\n",
    "\n",
    "# examine the state space \n",
    "state = env_info.vector_observations[0]\n",
    "print('States look like:', state)\n",
    "state_size = len(state)\n",
    "print('States have length:', state_size)"
   ]
  },
  {
   "cell_type": "markdown",
   "metadata": {},
   "source": [
    "### 3. Take Random Actions in the Environment\n",
    "\n",
    "In the next code cell, you will learn how to use the Python API to control the agent and receive feedback from the environment.\n",
    "\n",
    "Note that **in this coding environment, you will not be able to watch the agent while it is training**, and you should set `train_mode=True` to restart the environment."
   ]
  },
  {
   "cell_type": "code",
   "execution_count": 6,
   "metadata": {},
   "outputs": [
    {
     "name": "stdout",
     "output_type": "stream",
     "text": [
      "Score: 0.0\n"
     ]
    }
   ],
   "source": [
    "env_info = env.reset(train_mode=True)[brain_name] # reset the environment\n",
    "state = env_info.vector_observations[0]            # get the current state\n",
    "score = 0                                          # initialize the score\n",
    "while True:\n",
    "    action = np.random.randint(action_size)        # select an action\n",
    "    env_info = env.step(action)[brain_name]        # send the action to the environment\n",
    "    next_state = env_info.vector_observations[0]   # get the next state\n",
    "    reward = env_info.rewards[0]                   # get the reward\n",
    "    done = env_info.local_done[0]                  # see if episode has finished\n",
    "    score += reward                                # update the score\n",
    "    state = next_state                             # roll over the state to next time step\n",
    "    if done:                                       # exit loop if episode finished\n",
    "        break\n",
    "    \n",
    "print(\"Score: {}\".format(score))"
   ]
  },
  {
   "cell_type": "markdown",
   "metadata": {},
   "source": [
    "When finished, you can close the environment."
   ]
  },
  {
   "cell_type": "code",
   "execution_count": 7,
   "metadata": {},
   "outputs": [],
   "source": [
    "#env.close()"
   ]
  },
  {
   "cell_type": "markdown",
   "metadata": {},
   "source": [
    "### 4. It's Your Turn!\n",
    "\n",
    "Now it's your turn to train your own agent to solve the environment!  A few **important notes**:\n",
    "- When training the environment, set `train_mode=True`, so that the line for resetting the environment looks like the following:\n",
    "```python\n",
    "env_info = env.reset(train_mode=True)[brain_name]\n",
    "```\n",
    "- To structure your work, you're welcome to work directly in this Jupyter notebook, or you might like to start over with a new file!  You can see the list of files in the workspace by clicking on **_Jupyter_** in the top left corner of the notebook.\n",
    "- In this coding environment, you will not be able to watch the agent while it is training.  However, **_after training the agent_**, you can download the saved model weights to watch the agent on your own machine! "
   ]
  },
  {
   "cell_type": "markdown",
   "metadata": {},
   "source": [
    "### Define required imports and paramaters"
   ]
  },
  {
   "cell_type": "code",
   "execution_count": 8,
   "metadata": {},
   "outputs": [],
   "source": [
    "import numpy as np\n",
    "import random\n",
    "from collections import namedtuple, deque\n",
    "\n",
    "from model import QNetwork\n",
    "\n",
    "import torch\n",
    "import torch.nn.functional as F\n",
    "import torch.optim as optim\n",
    "\n",
    "import torch.nn as nn\n",
    "\n",
    "import matplotlib.pyplot as plt\n",
    "%matplotlib inline"
   ]
  },
  {
   "cell_type": "code",
   "execution_count": 9,
   "metadata": {},
   "outputs": [],
   "source": [
    "BUFFER_SIZE = int(1e5)  # replay buffer size\n",
    "BATCH_SIZE = 64         # minibatch size\n",
    "GAMMA = 0.9 #0.99            # discount factor\n",
    "TAU = 1e-3              # for soft update of target parameters\n",
    "LR = 0.0001 #5e-4               # learning rate \n",
    "UPDATE_EVERY = 4        # how often to update the network\n",
    "\n",
    "device = torch.device(\"cuda:0\" if torch.cuda.is_available() else \"cpu\")"
   ]
  },
  {
   "cell_type": "markdown",
   "metadata": {},
   "source": [
    "#### Define the Agent class with functions:\n",
    "- init\n",
    "- step\n",
    "- act\n",
    "- learn\n",
    "- softupdate"
   ]
  },
  {
   "cell_type": "code",
   "execution_count": 10,
   "metadata": {},
   "outputs": [],
   "source": [
    "class Agent():\n",
    "    \"\"\"Interacts with and learns from the environment.\"\"\"\n",
    "\n",
    "    def __init__(self, state_size, action_size, seed):\n",
    "        \"\"\"Initialize an Agent object.\n",
    "        \n",
    "        Params\n",
    "        ======\n",
    "            state_size (int): dimension of each state\n",
    "            action_size (int): dimension of each action\n",
    "            seed (int): random seed\n",
    "        \"\"\"\n",
    "        self.state_size = state_size\n",
    "        self.action_size = action_size\n",
    "        self.seed = random.seed(seed)\n",
    "\n",
    "        # Q-Network\n",
    "        self.qnetwork_local = QNetwork(state_size, action_size, seed).to(device)\n",
    "        self.qnetwork_target = QNetwork(state_size, action_size, seed).to(device)\n",
    "        self.optimizer = optim.Adam(self.qnetwork_local.parameters(), lr=LR)\n",
    "        #self.optimizer = optim.RMSProp(self.qnetwork_local.parameters(), lr=LR)\n",
    "\n",
    "        # Replay memory\n",
    "        self.memory = ReplayBuffer(action_size, BUFFER_SIZE, BATCH_SIZE, seed)\n",
    "        # Initialize time step (for updating every UPDATE_EVERY steps)\n",
    "        self.t_step = 0\n",
    "    \n",
    "    def step(self, state, action, reward, next_state, done):\n",
    "        # Save experience in replay memory\n",
    "        self.memory.add(state, action, reward, next_state, done)\n",
    "        \n",
    "        # Learn every UPDATE_EVERY time steps.\n",
    "        self.t_step = (self.t_step + 1) % UPDATE_EVERY\n",
    "        if self.t_step == 0:\n",
    "            # If enough samples are available in memory, get random subset and learn\n",
    "            if len(self.memory) > BATCH_SIZE:\n",
    "                experiences = self.memory.sample()\n",
    "                self.learn(experiences, GAMMA)\n",
    "\n",
    "    def act(self, state, eps=0.):\n",
    "        \"\"\"Returns actions for given state as per current policy.\n",
    "        \n",
    "        Params\n",
    "        ======\n",
    "            state (array_like): current state\n",
    "            eps (float): epsilon, for epsilon-greedy action selection\n",
    "        \"\"\"\n",
    "        state = torch.from_numpy(state).float().unsqueeze(0).to(device)\n",
    "        self.qnetwork_local.eval()\n",
    "        with torch.no_grad():\n",
    "            action_values = self.qnetwork_local(state)\n",
    "        self.qnetwork_local.train()\n",
    "\n",
    "        # Epsilon-greedy action selection\n",
    "        if random.random() > eps:\n",
    "            return np.argmax(action_values.cpu().data.numpy())\n",
    "        else:\n",
    "            return random.choice(np.arange(self.action_size))\n",
    "\n",
    "    def learn(self, experiences, gamma):\n",
    "        \"\"\"Update value parameters using given batch of experience tuples.\n",
    "\n",
    "        Params\n",
    "        ======\n",
    "            experiences (Tuple[torch.Variable]): tuple of (s, a, r, s', done) tuples \n",
    "            gamma (float): discount factor\n",
    "        \"\"\"\n",
    "        states, actions, rewards, next_states, dones = experiences\n",
    "\n",
    "        # Get max predicted Q values (for next states) from target model\n",
    "        Q_targets_next = self.qnetwork_target(next_states).detach().max(1)[0].unsqueeze(1)\n",
    "        # Compute Q targets for current states \n",
    "        Q_targets = rewards + (gamma * Q_targets_next * (1 - dones))\n",
    "\n",
    "        # Get expected Q values from local model\n",
    "        Q_expected = self.qnetwork_local(states).gather(1, actions)\n",
    "\n",
    "        # Compute loss\n",
    "        loss = F.mse_loss(Q_expected, Q_targets)\n",
    "        # Minimize the loss\n",
    "        self.optimizer.zero_grad()\n",
    "        loss.backward()\n",
    "        self.optimizer.step()\n",
    "\n",
    "        # ------------------- update target network ------------------- #\n",
    "        self.soft_update(self.qnetwork_local, self.qnetwork_target, TAU)                     \n",
    "\n",
    "    def soft_update(self, local_model, target_model, tau):\n",
    "        \"\"\"Soft update model parameters.\n",
    "        θ_target = τ*θ_local + (1 - τ)*θ_target\n",
    "\n",
    "        Params\n",
    "        ======\n",
    "            local_model (PyTorch model): weights will be copied from\n",
    "            target_model (PyTorch model): weights will be copied to\n",
    "            tau (float): interpolation parameter \n",
    "        \"\"\"\n",
    "        for target_param, local_param in zip(target_model.parameters(), local_model.parameters()):\n",
    "            target_param.data.copy_(tau*local_param.data + (1.0-tau)*target_param.data)"
   ]
  },
  {
   "cell_type": "markdown",
   "metadata": {},
   "source": [
    "#### Define ReplayBuffer class with functions\n",
    "- add\n",
    "- sample\n",
    "- len"
   ]
  },
  {
   "cell_type": "code",
   "execution_count": 11,
   "metadata": {},
   "outputs": [],
   "source": [
    "class ReplayBuffer:\n",
    "    \"\"\"Fixed-size buffer to store experience tuples.\"\"\"\n",
    "\n",
    "    def __init__(self, action_size, buffer_size, batch_size, seed):\n",
    "        \"\"\"Initialize a ReplayBuffer object.\n",
    "\n",
    "        Params\n",
    "        ======\n",
    "            action_size (int): dimension of each action\n",
    "            buffer_size (int): maximum size of buffer\n",
    "            batch_size (int): size of each training batch\n",
    "            seed (int): random seed\n",
    "        \"\"\"\n",
    "        self.action_size = action_size\n",
    "        self.memory = deque(maxlen=buffer_size)  \n",
    "        self.batch_size = batch_size\n",
    "        self.experience = namedtuple(\"Experience\", field_names=[\"state\", \"action\", \"reward\", \"next_state\", \"done\"])\n",
    "        self.seed = random.seed(seed)\n",
    "    \n",
    "    def add(self, state, action, reward, next_state, done):\n",
    "        \"\"\"Add a new experience to memory.\"\"\"\n",
    "        e = self.experience(state, action, reward, next_state, done)\n",
    "        self.memory.append(e)\n",
    "    \n",
    "    def sample(self):\n",
    "        \"\"\"Randomly sample a batch of experiences from memory.\"\"\"\n",
    "        experiences = random.sample(self.memory, k=self.batch_size)\n",
    "\n",
    "        states = torch.from_numpy(np.vstack([e.state for e in experiences if e is not None])).float().to(device)\n",
    "        actions = torch.from_numpy(np.vstack([e.action for e in experiences if e is not None])).long().to(device)\n",
    "        rewards = torch.from_numpy(np.vstack([e.reward for e in experiences if e is not None])).float().to(device)\n",
    "        next_states = torch.from_numpy(np.vstack([e.next_state for e in experiences if e is not None])).float().to(device)\n",
    "        dones = torch.from_numpy(np.vstack([e.done for e in experiences if e is not None]).astype(np.uint8)).float().to(device)\n",
    "  \n",
    "        return (states, actions, rewards, next_states, dones)\n",
    "\n",
    "    def __len__(self):\n",
    "        \"\"\"Return the current size of internal memory.\"\"\"\n",
    "        return len(self.memory)"
   ]
  },
  {
   "cell_type": "markdown",
   "metadata": {},
   "source": [
    "#### Define the Double DQN Q-Learning NN model"
   ]
  },
  {
   "cell_type": "code",
   "execution_count": 12,
   "metadata": {},
   "outputs": [],
   "source": [
    "class QNetwork(nn.Module):\n",
    "    \"\"\"Actor (Policy) Model.\"\"\"\n",
    "\n",
    "    def __init__(self, state_size, action_size, seed, fc1_units=1024, fc2_units=512, fc3_units=128, fc4_units=64):\n",
    "        \"\"\"Initialize parameters and build model.\n",
    "        Params\n",
    "        ======\n",
    "            state_size (int): Dimension of each state\n",
    "            action_size (int): Dimension of each action\n",
    "            seed (int): Random seed\n",
    "            fc1_units (int): Number of nodes in first hidden layer\n",
    "            fc2_units (int): Number of nodes in second hidden layer\n",
    "        \"\"\"\n",
    "        super(QNetwork, self).__init__()\n",
    "        self.seed = torch.manual_seed(seed)\n",
    "        #self.fc1 = nn.Linear(state_size, fc1_units)\n",
    "        #self.fc2 = nn.Linear(fc1_units, fc2_units)\n",
    "        #self.fc3 = nn.Linear(fc2_units, action_size)\n",
    "        \n",
    "        self.fc1 = nn.Linear(state_size, fc1_units)\n",
    "        self.fc2 = nn.Linear(fc1_units, fc2_units)\n",
    "        self.fc3 = nn.Linear(fc2_units, fc3_units)\n",
    "        self.fc4 = nn.Linear(fc3_units, fc4_units)\n",
    "        self.fc5 = nn.Linear(fc4_units, action_size)       \n",
    "\n",
    "    def forward(self, state):\n",
    "        \"\"\"Build a network that maps state -> action values.\"\"\"\n",
    "        #x = F.relu(self.fc1(state))\n",
    "        #x = F.relu(self.fc2(x))\n",
    "        \n",
    "        x = F.relu(self.fc1(state))\n",
    "        x = F.relu(self.fc2(x))\n",
    "        x = F.relu(self.fc3(x))\n",
    "        x = F.relu(self.fc4(x))\n",
    "        return self.fc5(x)"
   ]
  },
  {
   "cell_type": "markdown",
   "metadata": {},
   "source": [
    "#### Display the model architecture"
   ]
  },
  {
   "cell_type": "code",
   "execution_count": 13,
   "metadata": {},
   "outputs": [
    {
     "name": "stdout",
     "output_type": "stream",
     "text": [
      "0 <class 'int'>\n",
      "QNetwork(\n",
      "  (fc1): Linear(in_features=37, out_features=1024, bias=True)\n",
      "  (fc2): Linear(in_features=1024, out_features=512, bias=True)\n",
      "  (fc3): Linear(in_features=512, out_features=128, bias=True)\n",
      "  (fc4): Linear(in_features=128, out_features=64, bias=True)\n",
      "  (fc5): Linear(in_features=64, out_features=4, bias=True)\n",
      ")\n"
     ]
    }
   ],
   "source": [
    "# Display the model architecture\n",
    "seed1 = 0\n",
    "print(seed1, type(seed1))\n",
    "model = QNetwork(state_size, action_size, seed1)\n",
    "# print out the layer in the network\n",
    "print(model)"
   ]
  },
  {
   "cell_type": "code",
   "execution_count": 14,
   "metadata": {},
   "outputs": [],
   "source": [
    "#from nav_agent import Agent\n",
    "nav_agent = Agent(state_size=state_size, action_size=action_size, seed=0)"
   ]
  },
  {
   "cell_type": "markdown",
   "metadata": {},
   "source": [
    "#### Train the Double DQN Q-Learning With ReplayBuffer network"
   ]
  },
  {
   "cell_type": "code",
   "execution_count": 17,
   "metadata": {},
   "outputs": [
    {
     "name": "stdout",
     "output_type": "stream",
     "text": [
      "Episode 100\tAverage Score: 1.79\n",
      "Episode 200\tAverage Score: 5.41\n",
      "Episode 300\tAverage Score: 8.49\n",
      "Episode 400\tAverage Score: 11.77\n",
      "Episode 466\tAverage Score: 13.00\n",
      "Environment solved in 366 episodes!\tAverage Score: 13.00\n",
      "Episode 467\tAverage Score: 13.00\n",
      "Environment solved in 367 episodes!\tAverage Score: 13.00\n",
      "Episode 468\tAverage Score: 13.07\n",
      "Environment solved in 368 episodes!\tAverage Score: 13.07\n",
      "Episode 469\tAverage Score: 13.14\n",
      "Environment solved in 369 episodes!\tAverage Score: 13.14\n",
      "Episode 470\tAverage Score: 13.17\n",
      "Environment solved in 370 episodes!\tAverage Score: 13.17\n",
      "Episode 471\tAverage Score: 13.24\n",
      "Environment solved in 371 episodes!\tAverage Score: 13.24\n",
      "Episode 472\tAverage Score: 13.29\n",
      "Environment solved in 372 episodes!\tAverage Score: 13.29\n",
      "Episode 473\tAverage Score: 13.31\n",
      "Environment solved in 373 episodes!\tAverage Score: 13.31\n",
      "Episode 474\tAverage Score: 13.31\n",
      "Environment solved in 374 episodes!\tAverage Score: 13.31\n",
      "Episode 478\tAverage Score: 13.34\n",
      "Environment solved in 378 episodes!\tAverage Score: 13.34\n",
      "Episode 479\tAverage Score: 13.42\n",
      "Environment solved in 379 episodes!\tAverage Score: 13.42\n",
      "Episode 500\tAverage Score: 13.14\n",
      "Episode 600\tAverage Score: 12.46\n",
      "Episode 700\tAverage Score: 12.53\n",
      "Episode 748\tAverage Score: 13.47\n",
      "Environment solved in 648 episodes!\tAverage Score: 13.47\n",
      "Episode 749\tAverage Score: 13.48\n",
      "Environment solved in 649 episodes!\tAverage Score: 13.48\n",
      "Episode 750\tAverage Score: 13.50\n",
      "Environment solved in 650 episodes!\tAverage Score: 13.50\n",
      "Episode 751\tAverage Score: 13.61\n",
      "Environment solved in 651 episodes!\tAverage Score: 13.61\n",
      "Episode 765\tAverage Score: 13.74\n",
      "Environment solved in 665 episodes!\tAverage Score: 13.74\n",
      "Episode 766\tAverage Score: 13.77\n",
      "Environment solved in 666 episodes!\tAverage Score: 13.77\n",
      "Episode 767\tAverage Score: 13.81\n",
      "Environment solved in 667 episodes!\tAverage Score: 13.81\n",
      "Episode 768\tAverage Score: 13.86\n",
      "Environment solved in 668 episodes!\tAverage Score: 13.86\n",
      "Episode 775\tAverage Score: 13.87\n",
      "Environment solved in 675 episodes!\tAverage Score: 13.87\n",
      "Episode 777\tAverage Score: 13.93\n",
      "Environment solved in 677 episodes!\tAverage Score: 13.93\n",
      "Episode 783\tAverage Score: 13.98\n",
      "Environment solved in 683 episodes!\tAverage Score: 13.98\n",
      "Episode 784\tAverage Score: 14.05\n",
      "Environment solved in 684 episodes!\tAverage Score: 14.05\n",
      "Episode 785\tAverage Score: 14.06\n",
      "Environment solved in 685 episodes!\tAverage Score: 14.06\n",
      "Episode 800\tAverage Score: 14.00\n",
      "Episode 824\tAverage Score: 14.09\n",
      "Environment solved in 724 episodes!\tAverage Score: 14.09\n",
      "Episode 826\tAverage Score: 14.13\n",
      "Environment solved in 726 episodes!\tAverage Score: 14.13\n",
      "Episode 828\tAverage Score: 14.16\n",
      "Environment solved in 728 episodes!\tAverage Score: 14.16\n",
      "Episode 829\tAverage Score: 14.22\n",
      "Environment solved in 729 episodes!\tAverage Score: 14.22\n",
      "Episode 834\tAverage Score: 14.25\n",
      "Environment solved in 734 episodes!\tAverage Score: 14.25\n",
      "Episode 836\tAverage Score: 14.26\n",
      "Environment solved in 736 episodes!\tAverage Score: 14.26\n",
      "Episode 841\tAverage Score: 14.28\n",
      "Environment solved in 741 episodes!\tAverage Score: 14.28\n",
      "Episode 842\tAverage Score: 14.29\n",
      "Environment solved in 742 episodes!\tAverage Score: 14.29\n",
      "Episode 859\tAverage Score: 14.29\n",
      "Environment solved in 759 episodes!\tAverage Score: 14.29\n",
      "Episode 862\tAverage Score: 14.30\n",
      "Environment solved in 762 episodes!\tAverage Score: 14.30\n",
      "Episode 868\tAverage Score: 14.31\n",
      "Environment solved in 768 episodes!\tAverage Score: 14.31\n",
      "Episode 869\tAverage Score: 14.40\n",
      "Environment solved in 769 episodes!\tAverage Score: 14.40\n",
      "Episode 870\tAverage Score: 14.43\n",
      "Environment solved in 770 episodes!\tAverage Score: 14.43\n",
      "Episode 871\tAverage Score: 14.43\n",
      "Environment solved in 771 episodes!\tAverage Score: 14.43\n",
      "Episode 872\tAverage Score: 14.48\n",
      "Environment solved in 772 episodes!\tAverage Score: 14.48\n",
      "Episode 873\tAverage Score: 14.54\n",
      "Environment solved in 773 episodes!\tAverage Score: 14.54\n",
      "Episode 874\tAverage Score: 14.56\n",
      "Environment solved in 774 episodes!\tAverage Score: 14.56\n",
      "Episode 891\tAverage Score: 14.57\n",
      "Environment solved in 791 episodes!\tAverage Score: 14.57\n",
      "Episode 900\tAverage Score: 14.53\n",
      "Episode 902\tAverage Score: 14.57\n",
      "Environment solved in 802 episodes!\tAverage Score: 14.57\n",
      "Episode 903\tAverage Score: 14.58\n",
      "Environment solved in 803 episodes!\tAverage Score: 14.58\n",
      "Episode 906\tAverage Score: 14.62\n",
      "Environment solved in 806 episodes!\tAverage Score: 14.62\n",
      "Episode 907\tAverage Score: 14.72\n",
      "Environment solved in 807 episodes!\tAverage Score: 14.72\n",
      "Episode 912\tAverage Score: 14.73\n",
      "Environment solved in 812 episodes!\tAverage Score: 14.73\n",
      "Episode 913\tAverage Score: 14.76\n",
      "Environment solved in 813 episodes!\tAverage Score: 14.76\n",
      "Episode 920\tAverage Score: 14.84\n",
      "Environment solved in 820 episodes!\tAverage Score: 14.84\n",
      "Episode 921\tAverage Score: 14.84\n",
      "Environment solved in 821 episodes!\tAverage Score: 14.84\n",
      "Episode 922\tAverage Score: 14.92\n",
      "Environment solved in 822 episodes!\tAverage Score: 14.92\n",
      "Episode 923\tAverage Score: 14.92\n",
      "Environment solved in 823 episodes!\tAverage Score: 14.92\n",
      "Episode 925\tAverage Score: 14.96\n",
      "Environment solved in 825 episodes!\tAverage Score: 14.96\n",
      "Episode 926\tAverage Score: 15.01\n",
      "Environment solved in 826 episodes!\tAverage Score: 15.01\n",
      "Episode 927\tAverage Score: 15.16\n",
      "Environment solved in 827 episodes!\tAverage Score: 15.16\n",
      "Episode 928\tAverage Score: 15.18\n",
      "Environment solved in 828 episodes!\tAverage Score: 15.18\n",
      "Episode 949\tAverage Score: 15.18\n",
      "Environment solved in 849 episodes!\tAverage Score: 15.18\n",
      "Episode 951\tAverage Score: 15.23\n",
      "Environment solved in 851 episodes!\tAverage Score: 15.23\n",
      "Episode 953\tAverage Score: 15.26\n",
      "Environment solved in 853 episodes!\tAverage Score: 15.26\n",
      "Episode 955\tAverage Score: 15.35\n",
      "Environment solved in 855 episodes!\tAverage Score: 15.35\n",
      "Episode 956\tAverage Score: 15.35\n",
      "Environment solved in 856 episodes!\tAverage Score: 15.35\n",
      "Episode 961\tAverage Score: 15.45\n",
      "Environment solved in 861 episodes!\tAverage Score: 15.45\n",
      "Episode 962\tAverage Score: 15.47\n",
      "Environment solved in 862 episodes!\tAverage Score: 15.47\n",
      "Episode 963\tAverage Score: 15.52\n",
      "Environment solved in 863 episodes!\tAverage Score: 15.52\n",
      "Episode 1000\tAverage Score: 15.26\n",
      "Episode 1100\tAverage Score: 13.85\n",
      "Episode 1200\tAverage Score: 15.28\n",
      "Episode 1220\tAverage Score: 15.58\n",
      "Environment solved in 1120 episodes!\tAverage Score: 15.58\n",
      "Episode 1222\tAverage Score: 15.62\n",
      "Environment solved in 1122 episodes!\tAverage Score: 15.62\n",
      "Episode 1231\tAverage Score: 15.65\n",
      "Environment solved in 1131 episodes!\tAverage Score: 15.65\n",
      "Episode 1300\tAverage Score: 14.99\n",
      "Episode 1400\tAverage Score: 14.40\n",
      "Episode 1500\tAverage Score: 14.64\n"
     ]
    }
   ],
   "source": [
    "#def dqn(n_episodes=2000, max_t=1000, eps_start=1.0, eps_end=0.01, eps_decay=0.995):\n",
    "def dqn(n_episodes=1500, max_t=1000, eps_start=1.0, eps_end=0.01, eps_decay=0.995):    \n",
    "    \"\"\"Deep Q-Learning.\n",
    "    \n",
    "    Params\n",
    "    ======\n",
    "        n_episodes (int): maximum number of training episodes\n",
    "        max_t (int): maximum number of timesteps per episode\n",
    "        eps_start (float): starting value of epsilon, for epsilon-greedy action selection\n",
    "        eps_end (float): minimum value of epsilon\n",
    "        eps_decay (float): multiplicative factor (per episode) for decreasing epsilon\n",
    "    \"\"\"\n",
    "    \n",
    "    tempscore = 0.0\n",
    "    \n",
    "    scores = []                        # list containing scores from each episode\n",
    "    scores_window = deque(maxlen=100)  # last 100 scores\n",
    "    eps = eps_start                    # initialize epsilon\n",
    "    \n",
    "    for i_episode in range(1, n_episodes+1):\n",
    "        #state = env.reset()\n",
    "        env_info = env.reset(train_mode=True)[brain_name] # reset the environment\n",
    "        state = env_info.vector_observations[0]            # get the current state\n",
    "        \n",
    "        score = 0\n",
    "        for t in range(max_t):\n",
    "            action = nav_agent.act(state, eps)\n",
    "            \n",
    "            # ----- This was for Deep Q-Learning Network for Lunar Lander Env\n",
    "            #next_state, reward, done, _ = env.step(action)\n",
    "            # ----- Now do it for this Bananas Env\n",
    "            env_info = env.step(action)[brain_name]        # send the action to the environment\n",
    "            next_state = env_info.vector_observations[0]   # get the next state\n",
    "            reward = env_info.rewards[0]                   # get the reward\n",
    "            done = env_info.local_done[0]                  # see if episode has finished\n",
    "            \n",
    "            nav_agent.step(state, action, reward, next_state, done)\n",
    "            state = next_state\n",
    "            score += reward\n",
    "            if done:\n",
    "                break \n",
    "        scores_window.append(score)       # save most recent score\n",
    "        scores.append(score)              # save most recent score\n",
    "        eps = max(eps_end, eps_decay*eps) # decrease epsilon\n",
    "        print('\\rEpisode {}\\tAverage Score: {:.2f}'.format(i_episode, np.mean(scores_window)), end=\"\")\n",
    "        if i_episode % 100 == 0:\n",
    "            print('\\rEpisode {}\\tAverage Score: {:.2f}'.format(i_episode, np.mean(scores_window)))\n",
    "        #if np.mean(scores_window)>=200.0:\n",
    "        if (np.mean(scores_window)>=13.0) and (np.mean(scores_window)<15.0):\n",
    "            # update to highest score\n",
    "            if np.mean(scores_window) >= tempscore:\n",
    "                tempscore = np.mean(scores_window)\n",
    "                print('\\nEnvironment solved in {:d} episodes!\\tAverage Score: {:.2f}'.format(i_episode-100, np.mean(scores_window)))\n",
    "                torch.save(nav_agent.qnetwork_local.state_dict(), 'checkpoint13.pth')\n",
    "                #break\n",
    "        if np.mean(scores_window)>=15.0:\n",
    "            # update to highest score\n",
    "            if np.mean(scores_window) >= tempscore:\n",
    "                tempscore = np.mean(scores_window)\n",
    "                print('\\nEnvironment solved in {:d} episodes!\\tAverage Score: {:.2f}'.format(i_episode-100, np.mean(scores_window)))\n",
    "                torch.save(nav_agent.qnetwork_local.state_dict(), 'checkpoint15.pth')\n",
    "                #break            \n",
    "    return scores\n",
    "\n",
    "scores = dqn()"
   ]
  },
  {
   "cell_type": "code",
   "execution_count": 18,
   "metadata": {},
   "outputs": [
    {
     "data": {
      "image/png": "[encoded data removed]",
      "text/plain": [
       "<matplotlib.figure.Figure at 0x7fec867f27b8>"
      ]
     },
     "metadata": {
      "needs_background": "light"
     },
     "output_type": "display_data"
    }
   ],
   "source": [
    "# plot the scores\n",
    "fig = plt.figure()\n",
    "ax = fig.add_subplot(111)\n",
    "plt.plot(np.arange(len(scores)), scores)\n",
    "plt.ylabel('Score')\n",
    "plt.xlabel('Episode #')\n",
    "plt.show()"
   ]
  },
  {
   "cell_type": "markdown",
   "metadata": {},
   "source": [
    "#### Execute a run"
   ]
  },
  {
   "cell_type": "code",
   "execution_count": 19,
   "metadata": {},
   "outputs": [
    {
     "name": "stdout",
     "output_type": "stream",
     "text": [
      "Score: 17.0\n"
     ]
    }
   ],
   "source": [
    "env_info = env.reset(train_mode=True)[brain_name] # reset the environment\n",
    "state = env_info.vector_observations[0]            # get the current state\n",
    "score = 0                                          # initialize the score\n",
    "while True:\n",
    "    #action = np.random.randint(action_size)        # select an action\n",
    "    action = nav_agent.act(state)                  # select an action\n",
    "    env_info = env.step(action)[brain_name]        # send the action to the environment\n",
    "    next_state = env_info.vector_observations[0]   # get the next state\n",
    "    reward = env_info.rewards[0]                   # get the reward\n",
    "    done = env_info.local_done[0]                  # see if episode has finished\n",
    "    score += reward                                # update the score\n",
    "    state = next_state                             # roll over the state to next time step\n",
    "    if done:                                       # exit loop if episode finished\n",
    "        break\n",
    "    \n",
    "print(\"Score: {}\".format(score))"
   ]
  },
  {
   "cell_type": "code",
   "execution_count": null,
   "metadata": {},
   "outputs": [],
   "source": []
  },
  {
   "cell_type": "code",
   "execution_count": null,
   "metadata": {},
   "outputs": [],
   "source": []
  },
  {
   "cell_type": "code",
   "execution_count": null,
   "metadata": {},
   "outputs": [],
   "source": []
  },
  {
   "cell_type": "code",
   "execution_count": null,
   "metadata": {},
   "outputs": [],
   "source": []
  }
 ],
 "metadata": {
  "kernelspec": {
   "display_name": "Python 3",
   "language": "python",
   "name": "python3"
  }
 },
 "nbformat": 4,
 "nbformat_minor": 2
}
